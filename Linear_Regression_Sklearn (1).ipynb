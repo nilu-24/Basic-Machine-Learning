{
  "nbformat": 4,
  "nbformat_minor": 0,
  "metadata": {
    "colab": {
      "name": "Linear Regression Sklearn.ipynb",
      "provenance": [],
      "collapsed_sections": []
    },
    "kernelspec": {
      "name": "python3",
      "display_name": "Python 3"
    },
    "language_info": {
      "name": "python"
    }
  },
  "cells": [
    {
      "cell_type": "markdown",
      "metadata": {
        "id": "BA1LZHVFJ4YJ"
      },
      "source": [
        "#Linear Regression Model For Average Blood Pressure and Heart Disease Progression"
      ]
    },
    {
      "cell_type": "markdown",
      "metadata": {
        "id": "SwjP4p4W4wFk"
      },
      "source": [
        "Importing the necessary libraries"
      ]
    },
    {
      "cell_type": "code",
      "metadata": {
        "id": "3srBHvzc3VRv"
      },
      "source": [
        "import numpy as np\n",
        "import matplotlib.pyplot as plt\n",
        "from sklearn import datasets, linear_model\n",
        "from sklearn.metrics import mean_squared_error"
      ],
      "execution_count": null,
      "outputs": []
    },
    {
      "cell_type": "markdown",
      "metadata": {
        "id": "-ya_ovou42uc"
      },
      "source": [
        "Loading the diabetes dataset"
      ]
    },
    {
      "cell_type": "code",
      "metadata": {
        "colab": {
          "base_uri": "https://localhost:8080/"
        },
        "id": "kOKRRhNM479z",
        "outputId": "e1c09ab8-9e87-4840-aa01-ae45b5fcd530"
      },
      "source": [
        "diabetesData = datasets.load_diabetes()\n",
        "#diabetesData.keys()\n",
        "#'data', 'target', 'target_names', 'DESCR', 'feature_names', 'filename'\n",
        "diabetesData.data"
      ],
      "execution_count": null,
      "outputs": [
        {
          "output_type": "execute_result",
          "data": {
            "text/plain": [
              "array([[ 0.03807591,  0.05068012,  0.06169621, ..., -0.00259226,\n",
              "         0.01990842, -0.01764613],\n",
              "       [-0.00188202, -0.04464164, -0.05147406, ..., -0.03949338,\n",
              "        -0.06832974, -0.09220405],\n",
              "       [ 0.08529891,  0.05068012,  0.04445121, ..., -0.00259226,\n",
              "         0.00286377, -0.02593034],\n",
              "       ...,\n",
              "       [ 0.04170844,  0.05068012, -0.01590626, ..., -0.01107952,\n",
              "        -0.04687948,  0.01549073],\n",
              "       [-0.04547248, -0.04464164,  0.03906215, ...,  0.02655962,\n",
              "         0.04452837, -0.02593034],\n",
              "       [-0.04547248, -0.04464164, -0.0730303 , ..., -0.03949338,\n",
              "        -0.00421986,  0.00306441]])"
            ]
          },
          "metadata": {
            "tags": []
          },
          "execution_count": 2
        }
      ]
    },
    {
      "cell_type": "code",
      "metadata": {
        "colab": {
          "base_uri": "https://localhost:8080/"
        },
        "id": "sZBwfXjp7EWR",
        "outputId": "b0251d94-0e53-45ad-aac5-a8eec0c6419b"
      },
      "source": [
        "print(diabetesData.DESCR)\n"
      ],
      "execution_count": null,
      "outputs": [
        {
          "output_type": "stream",
          "text": [
            ".. _diabetes_dataset:\n",
            "\n",
            "Diabetes dataset\n",
            "----------------\n",
            "\n",
            "Ten baseline variables, age, sex, body mass index, average blood\n",
            "pressure, and six blood serum measurements were obtained for each of n =\n",
            "442 diabetes patients, as well as the response of interest, a\n",
            "quantitative measure of disease progression one year after baseline.\n",
            "\n",
            "**Data Set Characteristics:**\n",
            "\n",
            "  :Number of Instances: 442\n",
            "\n",
            "  :Number of Attributes: First 10 columns are numeric predictive values\n",
            "\n",
            "  :Target: Column 11 is a quantitative measure of disease progression one year after baseline\n",
            "\n",
            "  :Attribute Information:\n",
            "      - Age\n",
            "      - Sex\n",
            "      - Body mass index\n",
            "      - Average blood pressure\n",
            "      - S1\n",
            "      - S2\n",
            "      - S3\n",
            "      - S4\n",
            "      - S5\n",
            "      - S6\n",
            "\n",
            "Note: Each of these 10 feature variables have been mean centered and scaled by the standard deviation times `n_samples` (i.e. the sum of squares of each column totals 1).\n",
            "\n",
            "Source URL:\n",
            "https://www4.stat.ncsu.edu/~boos/var.select/diabetes.html\n",
            "\n",
            "For more information see:\n",
            "Bradley Efron, Trevor Hastie, Iain Johnstone and Robert Tibshirani (2004) \"Least Angle Regression,\" Annals of Statistics (with discussion), 407-499.\n",
            "(https://web.stanford.edu/~hastie/Papers/LARS/LeastAngle_2002.pdf)\n"
          ],
          "name": "stdout"
        }
      ]
    },
    {
      "cell_type": "markdown",
      "metadata": {
        "id": "AwZzlO6N7eLP"
      },
      "source": [
        "Choosing my axes for plotting: Average blood pressure(X) for independent variable and a quantitative measure of disease progression one year after baseline for dependent variable (Y)\n",
        "#Training and Testing Data"
      ]
    },
    {
      "cell_type": "code",
      "metadata": {
        "id": "UU0g_g9L7zrM"
      },
      "source": [
        "x = diabetesData.data[:,np.newaxis,3] #taking  average blood pressure\n",
        "x_train = x[:-50] #training data, excluding the last 50\n",
        "x_test = x[-25:] #testing data, taking the last 25\n"
      ],
      "execution_count": null,
      "outputs": []
    },
    {
      "cell_type": "code",
      "metadata": {
        "id": "IvPF_pah_hRj"
      },
      "source": [
        "y_train = diabetesData.target[:-50] #excluding the last 50\n",
        "y_test = diabetesData.target[-25:] #only the last 25\n"
      ],
      "execution_count": null,
      "outputs": []
    },
    {
      "cell_type": "markdown",
      "metadata": {
        "id": "WGFDRQsKASaZ"
      },
      "source": [
        "#Making the linear regression model"
      ]
    },
    {
      "cell_type": "code",
      "metadata": {
        "colab": {
          "base_uri": "https://localhost:8080/"
        },
        "id": "cE66dt6TAXCI",
        "outputId": "6a92756c-0611-4c1e-9402-d86fd9ce97ae"
      },
      "source": [
        "reg_model = linear_model.LinearRegression()\n",
        "reg_model.fit(x_train,y_train) #creating the machine learning regression model\n",
        "prediction_y = reg_model.predict(x_test) #making a prediction with testing data\n",
        "print(\"Mean Squared Error is: \", mean_squared_error(y_test,prediction_y)) #mean squared error of the y_test and y_predicted\n",
        "print(\"Gradient: \", reg_model.coef_)\n",
        "print(\"Y-Intercept: \", reg_model.intercept_)"
      ],
      "execution_count": null,
      "outputs": [
        {
          "output_type": "stream",
          "text": [
            "Mean Squared Error is:  3691.5228524002932\n",
            "Gradient:  [686.87345162]\n",
            "Y-Intercept:  151.87526425001172\n"
          ],
          "name": "stdout"
        }
      ]
    },
    {
      "cell_type": "markdown",
      "metadata": {
        "id": "0imf1is1HA7O"
      },
      "source": [
        "#Plotting the model"
      ]
    },
    {
      "cell_type": "code",
      "metadata": {
        "colab": {
          "base_uri": "https://localhost:8080/",
          "height": 279
        },
        "id": "SWCElFaDHEt-",
        "outputId": "95a27e48-1992-4829-983d-0dfb21d908ac"
      },
      "source": [
        "plt.scatter(x_test,y_test)\n",
        "plt.plot(x_test,prediction_y)\n",
        "plt.xlabel(\"Average Blood Pressure\")\n",
        "plt.ylabel(\"Disease Progression\")\n",
        "plt.show()"
      ],
      "execution_count": null,
      "outputs": [
        {
          "output_type": "display_data",
          "data": {
            "image/png": "[encoded data removed]",
            "text/plain": [
              "<Figure size 432x288 with 1 Axes>"
            ]
          },
          "metadata": {
            "tags": [],
            "needs_background": "light"
          }
        }
      ]
    },
    {
      "cell_type": "markdown",
      "metadata": {
        "id": "vEoyP76QX9SD"
      },
      "source": [
        "\n",
        "\n",
        "Linear Correlation (positive)"
      ]
    },
    {
      "cell_type": "markdown",
      "metadata": {
        "id": "fMviOjXbYe6n"
      },
      "source": [
        "For predicting, enter a value of Average Blood Pressure as n"
      ]
    },
    {
      "cell_type": "code",
      "metadata": {
        "id": "Xy9f_khTX_Ux",
        "colab": {
          "base_uri": "https://localhost:8080/"
        },
        "outputId": "d62000d0-9159-426d-d014-67a1808cbe0a"
      },
      "source": [
        "n = 0.069\n",
        "predicted_value = reg_model.coef_*n + reg_model.intercept_ #y=mx+c\n",
        "print(f\"The predicted disease progression is: {predicted_value} for {n} average blood pressure\")"
      ],
      "execution_count": null,
      "outputs": [
        {
          "output_type": "stream",
          "text": [
            "The predicted disease progression is: [199.26953241] for 0.069 average blood pressure\n"
          ],
          "name": "stdout"
        }
      ]
    }
  ]
}